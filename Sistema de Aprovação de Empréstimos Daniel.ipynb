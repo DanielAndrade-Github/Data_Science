{
 "cells": [
  {
   "cell_type": "markdown",
   "metadata": {
    "id": "-O1cmFgSku8j"
   },
   "source": [
    "# Análise Exploratória dos Dados\n"
   ]
  },
  {
   "cell_type": "code",
   "execution_count": null,
   "metadata": {
    "id": "c6kMyerHB4tv"
   },
   "outputs": [],
   "source": [
    "## Pacotes\n",
    "import pandas as pd     #Biblioteca de Funções de Manipulação de Dados\n",
    "import seaborn as sns   #Biblioteca de Funções de Visualização Gráfica\n",
    "import warnings\n",
    "warnings.filterwarnings(\"ignore\")"
   ]
  },
  {
   "cell_type": "code",
   "execution_count": null,
   "metadata": {
    "id": "wq0FbuZ9XOCd",
    "scrolled": true
   },
   "outputs": [],
   "source": [
    "#Importação dos Dados\n",
    "clientes = pd.read_csv('clientes.csv')"
   ]
  },
  {
   "cell_type": "code",
   "execution_count": null,
   "metadata": {
    "colab": {
     "base_uri": "https://localhost:8080/"
    },
    "id": "v02mC8TKdYOR",
    "outputId": "d8396175-7af3-4e36-9acd-38726ff4084d"
   },
   "outputs": [],
   "source": [
    "#Verifica as Dimensões do Arquivo (linhas, colunas)\n",
    "clientes.shape"
   ]
  },
  {
   "cell_type": "code",
   "execution_count": null,
   "metadata": {
    "colab": {
     "base_uri": "https://localhost:8080/",
     "height": 233
    },
    "id": "ZPdaos9JZIpK",
    "outputId": "5cfd9913-b9ae-457a-f7e5-93f483dc4358"
   },
   "outputs": [],
   "source": [
    "#Verificando os primeiros registros\n",
    "clientes.head()"
   ]
  },
  {
   "cell_type": "code",
   "execution_count": null,
   "metadata": {
    "id": "WQ2ooZI_cDxO"
   },
   "outputs": [],
   "source": [
    "#Verificando as informações dos campos da tabela de dados\n",
    "clientes.info()"
   ]
  },
  {
   "cell_type": "code",
   "execution_count": null,
   "metadata": {
    "id": "Gs83IiUGDQ5H"
   },
   "outputs": [],
   "source": [
    "#Verifica se há valores Nulos/ausentes\n",
    "clientes.isnull().sum()"
   ]
  },
  {
   "cell_type": "code",
   "execution_count": null,
   "metadata": {
    "colab": {
     "base_uri": "https://localhost:8080/"
    },
    "id": "Co1-ZV9Dc0fD",
    "outputId": "26578263-9a90-4268-f456-71f2d69d74f0"
   },
   "outputs": [],
   "source": [
    "#verifica se há valores duplicados\n",
    "clientes.duplicated().sum()"
   ]
  },
  {
   "cell_type": "markdown",
   "metadata": {
    "id": "JY5ovhk8c_Yz"
   },
   "source": [
    "### Conhecendo a Distribuição dos Dados de Cada Variável/Campo"
   ]
  },
  {
   "cell_type": "code",
   "execution_count": null,
   "metadata": {
    "colab": {
     "base_uri": "https://localhost:8080/",
     "height": 286
    },
    "id": "n6piBxbid5LU",
    "outputId": "f4fc7066-1999-4f2d-826b-e69465e93b9f",
    "scrolled": true
   },
   "outputs": [],
   "source": [
    "#Estatísticas descritivas das variáveis numéricas\n",
    "clientes.describe()"
   ]
  },
  {
   "cell_type": "code",
   "execution_count": null,
   "metadata": {
    "colab": {
     "base_uri": "https://localhost:8080/"
    },
    "id": "mfOh0SJ_eDh1",
    "outputId": "4fe76375-538b-4388-dbe7-3fb96734daac",
    "scrolled": true
   },
   "outputs": [],
   "source": [
    "# Tabela de Frequência da Variável \"aprovacao_emprestimo\" - Nosso Target ou Y ou Variável a ser Predita (o que a gente quer descobrir)\n",
    "clientes.aprovacao_emprestimo.value_counts()"
   ]
  },
  {
   "cell_type": "code",
   "execution_count": null,
   "metadata": {
    "colab": {
     "base_uri": "https://localhost:8080/",
     "height": 297
    },
    "id": "G7GH20Lpc96o",
    "outputId": "8ab5135f-2036-45f8-d091-cb98260cc5cf"
   },
   "outputs": [],
   "source": [
    "#Criando Gráfico de Barras para variáveis Categóricas (o campo entre barras pode ser qualquer coluna do dataframe)\n",
    "sns.countplot(clientes['aprovacao_emprestimo'])"
   ]
  },
  {
   "cell_type": "code",
   "execution_count": null,
   "metadata": {
    "colab": {
     "base_uri": "https://localhost:8080/",
     "height": 297
    },
    "id": "NporwRzio9r1",
    "outputId": "a946c6a2-0535-427e-ecd2-977be6b4c810"
   },
   "outputs": [],
   "source": [
    "#Criando Gráfico de Barras para variáveis Categóricas\n",
    "sns.countplot(clientes['historico_credito'])"
   ]
  },
  {
   "cell_type": "code",
   "execution_count": null,
   "metadata": {
    "colab": {
     "base_uri": "https://localhost:8080/",
     "height": 299
    },
    "id": "S9JsWz3jh9X7",
    "outputId": "dc50bb60-7288-4437-eea4-9f94d2f28544"
   },
   "outputs": [],
   "source": [
    "#Criando Gráfico de Barras para variáveis Categóricas\n",
    "sns.countplot(clientes['educacao'])"
   ]
  },
  {
   "cell_type": "code",
   "execution_count": null,
   "metadata": {
    "colab": {
     "base_uri": "https://localhost:8080/",
     "height": 296
    },
    "id": "OxVpy4cFh7i1",
    "outputId": "213d3f19-3c53-43f5-f157-261529cad3d2"
   },
   "outputs": [],
   "source": [
    "#Criando Gráfico de Barras para variáveis Categóricas\n",
    "sns.countplot(clientes['sexo'])"
   ]
  },
  {
   "cell_type": "code",
   "execution_count": null,
   "metadata": {
    "colab": {
     "base_uri": "https://localhost:8080/",
     "height": 296
    },
    "id": "YetxZJqaiGu6",
    "outputId": "7ee9862d-466a-447c-8b93-315771e52841"
   },
   "outputs": [],
   "source": [
    "#Criando Gráfico de Barras para variáveis Categóricas\n",
    "sns.countplot(clientes['imovel'])"
   ]
  },
  {
   "cell_type": "code",
   "execution_count": null,
   "metadata": {
    "colab": {
     "base_uri": "https://localhost:8080/",
     "height": 299
    },
    "id": "-5BsW7L-iQfK",
    "outputId": "eab7d59c-ca03-423c-b450-b1fb3a74e06d"
   },
   "outputs": [],
   "source": [
    "#Criando Gráfico de Barras para variáveis Categóricas\n",
    "sns.countplot(clientes['educacao'])"
   ]
  },
  {
   "cell_type": "code",
   "execution_count": null,
   "metadata": {
    "colab": {
     "base_uri": "https://localhost:8080/",
     "height": 296
    },
    "id": "vlhviU9xiSws",
    "outputId": "8f636ec5-b998-486c-ec79-faff3fcb65d9"
   },
   "outputs": [],
   "source": [
    "#Criando Gráfico de Barras para variáveis Categóricas\n",
    "sns.countplot(clientes['dependentes'])"
   ]
  },
  {
   "cell_type": "code",
   "execution_count": null,
   "metadata": {
    "colab": {
     "base_uri": "https://localhost:8080/",
     "height": 297
    },
    "id": "Wj0mepDAiVgO",
    "outputId": "2c27a9cb-2c50-4959-e396-40f0219eef16"
   },
   "outputs": [],
   "source": [
    "#Criando Gráfico de Barras para variáveis Categóricas\n",
    "sns.countplot(clientes['estado_civil'])"
   ]
  },
  {
   "cell_type": "code",
   "execution_count": null,
   "metadata": {
    "colab": {
     "base_uri": "https://localhost:8080/",
     "height": 296
    },
    "id": "KfeIQxisiJYt",
    "outputId": "658d13d5-37ee-4f8a-8d4f-927a3dc854fb"
   },
   "outputs": [],
   "source": [
    "#Criando Gráfico de Barras para variáveis Categóricas\n",
    "sns.countplot(clientes['empregado'])"
   ]
  },
  {
   "cell_type": "code",
   "execution_count": null,
   "metadata": {
    "colab": {
     "base_uri": "https://localhost:8080/",
     "height": 296
    },
    "id": "01BNXezBfS6A",
    "outputId": "141b49d7-c352-45d1-e844-b8e56248d066"
   },
   "outputs": [],
   "source": [
    "#Criando Gráfico de Distribuição para variáveis contínuas\n",
    "sns.histplot(clientes['renda'], bins=50, kde=True)"
   ]
  },
  {
   "cell_type": "code",
   "execution_count": null,
   "metadata": {
    "id": "tfVDwCwfiCQE"
   },
   "outputs": [],
   "source": [
    "#Distribuição dos dados BOXPLOT (traço verde é a mediana)\n",
    "clientes.boxplot(column='emprestimo', vert=False )"
   ]
  },
  {
   "cell_type": "code",
   "execution_count": null,
   "metadata": {
    "id": "tQ-1BKOFf0eZ"
   },
   "outputs": [],
   "source": [
    "#Criando Gráfico de Distribuição para variáveis contínuas\n",
    "sns.histplot(clientes['emprestimo'], bins=50, kde=True)"
   ]
  },
  {
   "cell_type": "code",
   "execution_count": null,
   "metadata": {
    "id": "yzwFFi0_gDaE"
   },
   "outputs": [],
   "source": [
    "# Correlação entre as Variáveis\n",
    "sns.scatterplot(data=clientes, x=\"emprestimo\", y=\"renda\", hue='aprovacao_emprestimo')"
   ]
  },
  {
   "cell_type": "code",
   "execution_count": null,
   "metadata": {
    "id": "_57pp-3Hc-Nx"
   },
   "outputs": [],
   "source": [
    "# Criação do Gráfico de dispersão (scatter) conhecido como pairplot\n",
    "sns.pairplot(clientes, hue='aprovacao_emprestimo') # kind=reg é a reta de regressão"
   ]
  },
  {
   "cell_type": "markdown",
   "metadata": {
    "id": "DM2nuyRTku81"
   },
   "source": [
    "# 3° Pré-Processamento dos Dados"
   ]
  },
  {
   "cell_type": "code",
   "execution_count": null,
   "metadata": {
    "id": "vZENnSgxDL_U"
   },
   "outputs": [],
   "source": [
    "#Substituindo caracteres por números\n",
    "clientes['sexo']= clientes['sexo'].map({'Male':0, 'Female':1})\n",
    "clientes['estado_civil']= clientes['estado_civil'].map({'No':0, 'Yes':1})\n",
    "clientes['aprovacao_emprestimo']= clientes['aprovacao_emprestimo'].map({'N':0, 'Y':1})"
   ]
  },
  {
   "cell_type": "code",
   "execution_count": null,
   "metadata": {
    "colab": {
     "base_uri": "https://localhost:8080/"
    },
    "id": "cr3Tn755DUgA",
    "outputId": "91dbab1e-a17a-44f8-96ad-9757ed91e5eb"
   },
   "outputs": [],
   "source": [
    "# Eliminando valores Nulos\n",
    "clientes = clientes.dropna()\n",
    "clientes.isnull().sum()"
   ]
  },
  {
   "cell_type": "code",
   "execution_count": null,
   "metadata": {
    "colab": {
     "base_uri": "https://localhost:8080/"
    },
    "id": "m9LAWTgzDXTE",
    "outputId": "8ba2f0b4-a397-477e-fa18-bf7a61f3b388"
   },
   "outputs": [],
   "source": [
    "# Separando variáveis Explicativas(X) e Variável TARGET(Y)\n",
    "X = clientes[['sexo', 'estado_civil', 'renda', 'emprestimo', 'historico_credito']]\n",
    "y = clientes.aprovacao_emprestimo\n",
    "X.shape, y.shape"
   ]
  },
  {
   "cell_type": "code",
   "execution_count": null,
   "metadata": {
    "id": "ojgYarIfDavz"
   },
   "outputs": [],
   "source": [
    "# importando Pacote para Amostragem dos Dados\n",
    "from sklearn.model_selection import train_test_split"
   ]
  },
  {
   "cell_type": "code",
   "execution_count": null,
   "metadata": {
    "id": "oIUK1ZNqu7rF",
    "scrolled": true
   },
   "outputs": [],
   "source": [
    "# Realizando Amostragem dosa Dados (20% dos dados serão para teste)\n",
    "x_train, x_teste, y_train, y_teste = train_test_split(X,y, test_size = 0.2, random_state = 7)"
   ]
  },
  {
   "cell_type": "code",
   "execution_count": null,
   "metadata": {},
   "outputs": [],
   "source": [
    "x_train"
   ]
  },
  {
   "cell_type": "code",
   "execution_count": null,
   "metadata": {
    "scrolled": true
   },
   "outputs": [],
   "source": [
    "y_train"
   ]
  },
  {
   "cell_type": "markdown",
   "metadata": {},
   "source": [
    "### 1° Versão da Máquina Preditiva: Criando um **baseline**\n",
    "\n",
    "Aqui nós vamos criar a primeira versão da Máquina Preditiva. Depois, vamos buscar formas de melhorar a assertividade do modelo."
   ]
  },
  {
   "cell_type": "code",
   "execution_count": null,
   "metadata": {},
   "outputs": [],
   "source": [
    "#Importando Pacotes para Construção das Máquinas Preditivas com Machine Learning\n",
    "\n",
    "## Algoritmo Random Forest\n",
    "from sklearn.ensemble import RandomForestClassifier "
   ]
  },
  {
   "cell_type": "code",
   "execution_count": null,
   "metadata": {},
   "outputs": [],
   "source": [
    "# Criando a Máquina Preditiva com o Random Forest\n",
    "maquina = RandomForestClassifier() \n",
    "maquina.fit(x_train, y_train)"
   ]
  },
  {
   "cell_type": "markdown",
   "metadata": {},
   "source": [
    "## Avaliando a máquina preditiva"
   ]
  },
  {
   "cell_type": "code",
   "execution_count": null,
   "metadata": {},
   "outputs": [],
   "source": [
    "#Importando a Métrica de Avaliação\n",
    "from sklearn.metrics import accuracy_score"
   ]
  },
  {
   "cell_type": "code",
   "execution_count": null,
   "metadata": {},
   "outputs": [],
   "source": [
    "#Avaliando a Acurácia da Máquina Preditiva Baseline com os dados de Treino\n",
    "pred_maquina = maquina.predict(x_train)\n",
    "accuracy_score(y_train,pred_maquina)"
   ]
  },
  {
   "cell_type": "code",
   "execution_count": null,
   "metadata": {},
   "outputs": [],
   "source": [
    "#Avaliando a Acurácia da Máquina Preditiva Baseline com dados de Teste\n",
    "pred_maquina = maquina.predict(x_teste)\n",
    "accuracy_score(y_teste,pred_maquina)"
   ]
  },
  {
   "cell_type": "markdown",
   "metadata": {},
   "source": [
    "### 2° Versão da Máquina Preditiva: Batendo o Baseline"
   ]
  },
  {
   "cell_type": "markdown",
   "metadata": {},
   "source": [
    "#### Tunando (calibrando) **Hiperparâmetros** do Algoritmo\n",
    "\n",
    "https://scikit-learn.org/stable/modules/generated/sklearn.ensemble.RandomForestClassifier.html"
   ]
  },
  {
   "cell_type": "markdown",
   "metadata": {},
   "source": [
    "Vamos utilizar um hiperparâmetro do algoritimo RANDOM FOREST de nome \"**max_depth**\", cujo objetivo é exatamente combater problemas de \"***Overfiting***\"."
   ]
  },
  {
   "cell_type": "markdown",
   "metadata": {},
   "source": [
    "### Usando o Hiperparâmetro \"**max_depth**\" para diminuir \"overfiting\""
   ]
  },
  {
   "cell_type": "code",
   "execution_count": null,
   "metadata": {},
   "outputs": [],
   "source": [
    "# Criando a Máquina Preditiva com o Random Forest \n",
    "maquina = RandomForestClassifier(max_depth=4, random_state = 7) \n",
    "maquina.fit(x_train, y_train)"
   ]
  },
  {
   "cell_type": "code",
   "execution_count": null,
   "metadata": {},
   "outputs": [],
   "source": [
    "#Avaliando a Acurácia da Máquina Preditiva Baseline com os dados de Treino\n",
    "pred_maquina_treino = maquina.predict(x_train)\n",
    "accuracy_score(y_train,pred_maquina_treino)"
   ]
  },
  {
   "cell_type": "code",
   "execution_count": null,
   "metadata": {},
   "outputs": [],
   "source": [
    "#Avaliando a Acurácia da Máquina Preditiva Baseline com dados de Teste\n",
    "pred_maquina_teste = maquina.predict(x_teste)\n",
    "accuracy_score(y_teste,pred_maquina_teste)"
   ]
  },
  {
   "cell_type": "markdown",
   "metadata": {},
   "source": [
    "### Verificando as Variáveis mais importantes"
   ]
  },
  {
   "cell_type": "code",
   "execution_count": null,
   "metadata": {},
   "outputs": [],
   "source": [
    "#Importancia das Variáveis\n",
    "maquina.feature_importances_"
   ]
  },
  {
   "cell_type": "code",
   "execution_count": null,
   "metadata": {},
   "outputs": [],
   "source": [
    "#Importancia das Variáveis com Gráfico\n",
    "print(maquina.feature_importances_)\n",
    "# plot\n",
    "from matplotlib import pyplot\n",
    "pyplot.bar(range(len(maquina.feature_importances_)), maquina.feature_importances_)\n",
    "pyplot.show()"
   ]
  },
  {
   "cell_type": "code",
   "execution_count": null,
   "metadata": {},
   "outputs": [],
   "source": [
    "#['sexo', 'estado_civil', 'renda', 'emprestimo', 'historico_credito']"
   ]
  },
  {
   "cell_type": "markdown",
   "metadata": {},
   "source": [
    "## Podemos salvar nossa Máquina Preditiva para criarmos o Sistema na WEB"
   ]
  },
  {
   "cell_type": "code",
   "execution_count": null,
   "metadata": {},
   "outputs": [],
   "source": [
    "#Comando de Salvamento da Máquina Preditiva\n",
    "import pickle \n",
    "pickle_out = open(\"maquina_preditiva.pkl\", mode = \"wb\") \n",
    "pickle.dump(maquina, pickle_out) \n",
    "pickle_out.close()"
   ]
  },
  {
   "cell_type": "markdown",
   "metadata": {},
   "source": [
    "## Instalação do Pacote para Conexão do nosso Sistema na WEB "
   ]
  },
  {
   "cell_type": "code",
   "execution_count": null,
   "metadata": {},
   "outputs": [],
   "source": [
    "!pip install -q pyngrok"
   ]
  },
  {
   "cell_type": "code",
   "execution_count": null,
   "metadata": {},
   "outputs": [],
   "source": [
    "##2° Instalar o Pacote para Implementação do nosso Sistema na WEB\n",
    "\n",
    "#instalação dos Pacotes para Implementação do nosso Sistema na WEB\n",
    "!pip install -q streamlit\n",
    "!pip install -q streamlit_ace"
   ]
  },
  {
   "cell_type": "markdown",
   "metadata": {},
   "source": [
    "## 3° Criar o Sistema  \n",
    "\n",
    "#Comando para Criar o Sistema no arquivo app.py (%%writefile)"
   ]
  },
  {
   "cell_type": "code",
   "execution_count": null,
   "metadata": {},
   "outputs": [],
   "source": [
    "%%writefile app.py\n",
    "\n",
    "#Importando Pacotes \n",
    "import pickle\n",
    "import streamlit as st\n",
    " \n",
    "# Carregando a Máquina Preditiva\n",
    "pickle_in = open('maquina_preditiva.pkl', 'rb') \n",
    "maquina_preditiva = pickle.load(pickle_in)\n",
    "\n",
    "#Manter a sessão em cache \n",
    "@st.cache()\n",
    "  \n",
    "# Criando a função que irá fazer a predição usando os dados impostados pelo usuário do Sistema \n",
    "def prediction(sexo, estado_civil, renda, emprestimo, historico_credito):   \n",
    " \n",
    "    # Pre-processando a entrada do Usuário    \n",
    "    if sexo == \"Masculino\":\n",
    "        sexo = 0\n",
    "    else:\n",
    "        sexo = 1\n",
    " \n",
    "    if estado_civil == \"Solteiro(a)\":\n",
    "        estado_civil = 0\n",
    "    else:\n",
    "        estado_civil = 1\n",
    " \n",
    "    if historico_credito == \"Débitos Pendentes\":\n",
    "        historico_credito = 0\n",
    "    else:\n",
    "        historico_credito = 1  \n",
    " \n",
    "    emprestimo = emprestimo / 1000\n",
    " \n",
    "    # Fazendo Predições\n",
    "    prediction = maquina_preditiva.predict( \n",
    "        [[sexo, estado_civil, renda, emprestimo, historico_credito]])\n",
    "     \n",
    "    if prediction == 0:\n",
    "        pred = 'Rejeitado'\n",
    "    else:\n",
    "        pred = 'Aprovado'\n",
    "    return pred\n",
    "      \n",
    "# Essa função é para criação da webpage  \n",
    "def main():  \n",
    "\n",
    "    # Elementos da webpage\n",
    "    # Nesse Ponto vc deve Personalizar o Sistema com sua Marca\n",
    "    html_temp = \"\"\" \n",
    "    <div style =\"background-color:salmon;padding:13px\"> \n",
    "    <h1 style =\"color:white;text-align:center;\">DR. DANIEL ARAÚJO</h1> \n",
    "    <h2 style =\"color:white;text-align:center;\">Sistema Preditivo de Perfil - by BedaTech</h2> \n",
    "    </div> \n",
    "    \"\"\"\n",
    "      \n",
    "    # Função do streamlit que faz o display da webpage\n",
    "    st.markdown(html_temp, unsafe_allow_html = True) \n",
    "      \n",
    "    # As linhas abaixo criam as caixas na qual o usuário vai entrar com dados da pessoa que quer o empréstimo para fazer a Predição\n",
    "    sexo = st.selectbox('Sexo',(\"Masculino\",\"Feminino\"))\n",
    "    estado_civil = st.selectbox('Estado Civil',(\"Solteiro(a)\",\"Casado(a)\")) \n",
    "    renda = st.number_input(\"Renda Mensal\") \n",
    "    emprestimo = st.number_input(\"Valor Total do Empréstimo\")\n",
    "    historico_credito = st.selectbox('Histórico de Créditos',(\"Sem Débitos\",\"Débitos Pendentes\"))\n",
    "    result =\"\"\n",
    "      \n",
    "    #Quando o Usuário clicar no botão \"Verificar\" a Máquina Preditiva faz seu trabalho\n",
    "    if st.button(\"Verificar\"): \n",
    "        result = prediction(sexo, estado_civil, renda, emprestimo, historico_credito) \n",
    "        st.success('O empréstimo foi {}'.format(result))\n",
    "        print(emprestimo)\n",
    "     \n",
    "    if __name__=='__main__': \n",
    "        main()"
   ]
  },
  {
   "cell_type": "code",
   "execution_count": null,
   "metadata": {},
   "outputs": [],
   "source": [
    "##4° Executar o Sistema\n",
    "\n",
    "#Executa o sistema\n",
    "!streamlit run app.py &>/dev/null&"
   ]
  },
  {
   "cell_type": "code",
   "execution_count": null,
   "metadata": {},
   "outputs": [],
   "source": [
    "##5° Criar a Conexão do nosso Sistema na WEB\n",
    "\n",
    "# Importando a Biblioteca para Conexão do nosso Sistema na WEB \n",
    "from pyngrok import ngrok"
   ]
  },
  {
   "cell_type": "code",
   "execution_count": null,
   "metadata": {},
   "outputs": [],
   "source": [
    "##6° Publicar nosso Sistema numa URL\n",
    "\n",
    "#Publica o sistema numa URL\n",
    "public_url = ngrok.connect('8501')"
   ]
  },
  {
   "cell_type": "code",
   "execution_count": null,
   "metadata": {},
   "outputs": [],
   "source": [
    "##7° Abrir o Sistema via Link que contém a palavra ngrok.io\n",
    "\n",
    "#URL do sistema\n",
    "public_url"
   ]
  }
 ],
 "metadata": {
  "colab": {
   "collapsed_sections": [],
   "name": "aula1-maratona.ipynb",
   "provenance": []
  },
  "kernelspec": {
   "display_name": "Python 3",
   "language": "python",
   "name": "python3"
  },
  "language_info": {
   "codemirror_mode": {
    "name": "ipython",
    "version": 3
   },
   "file_extension": ".py",
   "mimetype": "text/x-python",
   "name": "python",
   "nbconvert_exporter": "python",
   "pygments_lexer": "ipython3",
   "version": "3.8.8"
  }
 },
 "nbformat": 4,
 "nbformat_minor": 1
}
